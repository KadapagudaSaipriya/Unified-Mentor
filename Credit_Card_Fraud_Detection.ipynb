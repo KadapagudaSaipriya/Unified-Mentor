{
  "nbformat": 4,
  "nbformat_minor": 0,
  "metadata": {
    "colab": {
      "provenance": []
    },
    "kernelspec": {
      "name": "python3",
      "display_name": "Python 3"
    },
    "language_info": {
      "name": "python"
    }
  },
  "cells": [
    {
      "cell_type": "code",
      "execution_count": null,
      "metadata": {
        "id": "OLgVx2gpqqJE"
      },
      "outputs": [],
      "source": [
        "import numpy as np\n",
        "import pandas as pd\n",
        "from sklearn.model_selection import train_test_split, GridSearchCV, KFold\n",
        "from sklearn.ensemble import RandomForestClassifier\n",
        "from sklearn.metrics import accuracy_score, classification_report, confusion_matrix\n",
        "from sklearn.preprocessing import OneHotEncoder, StandardScaler\n",
        "from imblearn.under_sampling import NearMiss\n",
        "from imblearn.over_sampling import SMOTE, RandomOverSampler\n",
        "from imblearn.combine import SMOTETomek\n",
        "from imblearn.ensemble import EasyEnsembleClassifier"
      ]
    },
    {
      "cell_type": "code",
      "source": [
        "data = pd.read_csv('/content/Credit Card Fraud Detection (1).csv')"
      ],
      "metadata": {
        "id": "4hIjnsr0quu7"
      },
      "execution_count": null,
      "outputs": []
    },
    {
      "cell_type": "code",
      "source": [
        "data.shape"
      ],
      "metadata": {
        "colab": {
          "base_uri": "https://localhost:8080/"
        },
        "id": "fLWXQEZJr-I1",
        "outputId": "11e08f6b-1946-4d4d-c4ff-f9738c575103"
      },
      "execution_count": null,
      "outputs": [
        {
          "output_type": "execute_result",
          "data": {
            "text/plain": [
              "(984, 5)"
            ]
          },
          "metadata": {},
          "execution_count": 18
        }
      ]
    },
    {
      "cell_type": "code",
      "source": [
        "data.info()"
      ],
      "metadata": {
        "colab": {
          "base_uri": "https://localhost:8080/"
        },
        "id": "Gd0nzCu4r-Rd",
        "outputId": "6833c088-bfb4-460b-9ea8-60edf0efef53"
      },
      "execution_count": null,
      "outputs": [
        {
          "output_type": "stream",
          "name": "stdout",
          "text": [
            "<class 'pandas.core.frame.DataFrame'>\n",
            "RangeIndex: 984 entries, 0 to 983\n",
            "Data columns (total 5 columns):\n",
            " #   Column             Non-Null Count  Dtype \n",
            "---  ------             --------------  ----- \n",
            " 0   credit_card        984 non-null    int64 \n",
            " 1   city               984 non-null    object\n",
            " 2   state              984 non-null    object\n",
            " 3   zipcode            984 non-null    int64 \n",
            " 4   credit_card_limit  984 non-null    int64 \n",
            "dtypes: int64(3), object(2)\n",
            "memory usage: 38.6+ KB\n"
          ]
        }
      ]
    },
    {
      "cell_type": "code",
      "source": [
        "categorical_columns = ['city', 'state']\n",
        "encoder = OneHotEncoder(sparse_output=False, drop='first')\n",
        "encoded_cat = encoder.fit_transform(data[categorical_columns])\n"
      ],
      "metadata": {
        "id": "IUqJxsrTquxv"
      },
      "execution_count": null,
      "outputs": []
    },
    {
      "cell_type": "code",
      "source": [
        "numerical_columns = ['credit_card_limit', 'zipcode']\n",
        "scaler = StandardScaler()\n",
        "scaled_num = scaler.fit_transform(data[numerical_columns])"
      ],
      "metadata": {
        "id": "k_tAwyQJqu0G"
      },
      "execution_count": null,
      "outputs": []
    },
    {
      "cell_type": "code",
      "source": [
        "X = np.concatenate([encoded_cat, scaled_num], axis=1)"
      ],
      "metadata": {
        "id": "WfWXjbM3rUMq"
      },
      "execution_count": null,
      "outputs": []
    },
    {
      "cell_type": "code",
      "source": [
        "np.random.seed(42)\n",
        "y = np.random.randint(0, 2, size=X.shape[0])"
      ],
      "metadata": {
        "id": "N6YoPNq6rUPJ"
      },
      "execution_count": null,
      "outputs": []
    },
    {
      "cell_type": "code",
      "source": [
        "X_train, X_test, y_train, y_test = train_test_split(X, y, train_size=0.7, random_state=42)"
      ],
      "metadata": {
        "id": "PXqhFBQcrURv"
      },
      "execution_count": null,
      "outputs": []
    },
    {
      "cell_type": "code",
      "source": [
        "cv = KFold(n_splits=5, shuffle=True, random_state=42)"
      ],
      "metadata": {
        "id": "WqGoj9Ourc_X"
      },
      "execution_count": null,
      "outputs": []
    },
    {
      "cell_type": "code",
      "source": [
        "rfc = RandomForestClassifier(random_state=42)\n",
        "rfc.fit(X_train, y_train)\n",
        "y_pred = rfc.predict(X_test)\n",
        "print(\"\\nRandomForestClassifier Results:\")\n",
        "print(confusion_matrix(y_test, y_pred))\n",
        "print(accuracy_score(y_test, y_pred))\n",
        "print(classification_report(y_test, y_pred))"
      ],
      "metadata": {
        "colab": {
          "base_uri": "https://localhost:8080/"
        },
        "id": "rhebmK5JrdCF",
        "outputId": "5516fbee-0c4c-4bdb-919f-1f16d1d0ee23"
      },
      "execution_count": null,
      "outputs": [
        {
          "output_type": "stream",
          "name": "stdout",
          "text": [
            "\n",
            "RandomForestClassifier Results:\n",
            "[[72 79]\n",
            " [66 79]]\n",
            "0.5101351351351351\n",
            "              precision    recall  f1-score   support\n",
            "\n",
            "           0       0.52      0.48      0.50       151\n",
            "           1       0.50      0.54      0.52       145\n",
            "\n",
            "    accuracy                           0.51       296\n",
            "   macro avg       0.51      0.51      0.51       296\n",
            "weighted avg       0.51      0.51      0.51       296\n",
            "\n"
          ]
        }
      ]
    },
    {
      "cell_type": "code",
      "source": [
        "class_weight = {0: 1, 1: 100}\n",
        "rfc_weighted = RandomForestClassifier(class_weight=class_weight, random_state=42)\n",
        "rfc_weighted.fit(X_train, y_train)\n",
        "y_pred_weighted = rfc_weighted.predict(X_test)\n",
        "print(\"\\nRandomForestClassifier with class_weight Results:\")\n",
        "print(confusion_matrix(y_test, y_pred_weighted))\n",
        "print(accuracy_score(y_test, y_pred_weighted))\n",
        "print(classification_report(y_test, y_pred_weighted))"
      ],
      "metadata": {
        "colab": {
          "base_uri": "https://localhost:8080/"
        },
        "id": "pg0Ec_5BrdFV",
        "outputId": "89ee610d-c106-4e76-c454-daf071049d1c"
      },
      "execution_count": null,
      "outputs": [
        {
          "output_type": "stream",
          "name": "stdout",
          "text": [
            "\n",
            "RandomForestClassifier with class_weight Results:\n",
            "[[ 37 114]\n",
            " [ 31 114]]\n",
            "0.5101351351351351\n",
            "              precision    recall  f1-score   support\n",
            "\n",
            "           0       0.54      0.25      0.34       151\n",
            "           1       0.50      0.79      0.61       145\n",
            "\n",
            "    accuracy                           0.51       296\n",
            "   macro avg       0.52      0.52      0.47       296\n",
            "weighted avg       0.52      0.51      0.47       296\n",
            "\n"
          ]
        }
      ]
    },
    {
      "cell_type": "code",
      "source": [
        "under_sampler = NearMiss()\n",
        "X_resampled, y_resampled = under_sampler.fit_resample(X_train, y_train)\n",
        "rfc.fit(X_resampled, y_resampled)\n",
        "y_pred_under = rfc.predict(X_test)\n",
        "print(\"\\nUnder Sampling Results:\")\n",
        "print(confusion_matrix(y_test, y_pred_under))\n",
        "print(accuracy_score(y_test, y_pred_under))\n",
        "print(classification_report(y_test, y_pred_under))"
      ],
      "metadata": {
        "colab": {
          "base_uri": "https://localhost:8080/"
        },
        "id": "-AWZInCWrUVH",
        "outputId": "88102873-5656-478c-ca85-254508b38439"
      },
      "execution_count": null,
      "outputs": [
        {
          "output_type": "stream",
          "name": "stdout",
          "text": [
            "\n",
            "Under Sampling Results:\n",
            "[[69 82]\n",
            " [69 76]]\n",
            "0.48986486486486486\n",
            "              precision    recall  f1-score   support\n",
            "\n",
            "           0       0.50      0.46      0.48       151\n",
            "           1       0.48      0.52      0.50       145\n",
            "\n",
            "    accuracy                           0.49       296\n",
            "   macro avg       0.49      0.49      0.49       296\n",
            "weighted avg       0.49      0.49      0.49       296\n",
            "\n"
          ]
        }
      ]
    },
    {
      "cell_type": "code",
      "source": [
        "smote = SMOTE(random_state=42)\n",
        "X_resampled_smote, y_resampled_smote = smote.fit_resample(X_train, y_train)\n",
        "rfc.fit(X_resampled_smote, y_resampled_smote)\n",
        "y_pred_smote = rfc.predict(X_test)\n",
        "print(\"\\nOver Sampling (SMOTE) Results:\")\n",
        "print(confusion_matrix(y_test, y_pred_smote))\n",
        "print(accuracy_score(y_test, y_pred_smote))\n",
        "print(classification_report(y_test, y_pred_smote))"
      ],
      "metadata": {
        "colab": {
          "base_uri": "https://localhost:8080/"
        },
        "id": "AlJg1xbWrvYT",
        "outputId": "b91593a0-15e4-4231-9106-9150e5b421b0"
      },
      "execution_count": null,
      "outputs": [
        {
          "output_type": "stream",
          "name": "stdout",
          "text": [
            "\n",
            "Over Sampling (SMOTE) Results:\n",
            "[[74 77]\n",
            " [66 79]]\n",
            "0.5168918918918919\n",
            "              precision    recall  f1-score   support\n",
            "\n",
            "           0       0.53      0.49      0.51       151\n",
            "           1       0.51      0.54      0.52       145\n",
            "\n",
            "    accuracy                           0.52       296\n",
            "   macro avg       0.52      0.52      0.52       296\n",
            "weighted avg       0.52      0.52      0.52       296\n",
            "\n"
          ]
        }
      ]
    },
    {
      "cell_type": "code",
      "source": [
        "smote_tomek = SMOTETomek(random_state=42)\n",
        "X_resampled_st, y_resampled_st = smote_tomek.fit_resample(X_train, y_train)\n",
        "rfc.fit(X_resampled_st, y_resampled_st)\n",
        "y_pred_st = rfc.predict(X_test)\n",
        "print(\"\\nSMOTETomek Results:\")\n",
        "print(confusion_matrix(y_test, y_pred_st))\n",
        "print(accuracy_score(y_test, y_pred_st))\n",
        "print(classification_report(y_test, y_pred_st))"
      ],
      "metadata": {
        "colab": {
          "base_uri": "https://localhost:8080/"
        },
        "id": "UJvek9KcrvbE",
        "outputId": "dd9dfe29-e590-46cf-e42b-75ab4878afe2"
      },
      "execution_count": null,
      "outputs": [
        {
          "output_type": "stream",
          "name": "stdout",
          "text": [
            "\n",
            "SMOTETomek Results:\n",
            "[[74 77]\n",
            " [67 78]]\n",
            "0.5135135135135135\n",
            "              precision    recall  f1-score   support\n",
            "\n",
            "           0       0.52      0.49      0.51       151\n",
            "           1       0.50      0.54      0.52       145\n",
            "\n",
            "    accuracy                           0.51       296\n",
            "   macro avg       0.51      0.51      0.51       296\n",
            "weighted avg       0.51      0.51      0.51       296\n",
            "\n"
          ]
        }
      ]
    },
    {
      "cell_type": "code",
      "source": [
        "eec = EasyEnsembleClassifier(random_state=42)\n",
        "eec.fit(X_train, y_train)\n",
        "y_pred_eec = eec.predict(X_test)\n",
        "print(\"\\nEasy Ensemble Results:\")\n",
        "print(confusion_matrix(y_test, y_pred_eec))\n",
        "print(accuracy_score(y_test, y_pred_eec))\n",
        "print(classification_report(y_test, y_pred_eec))"
      ],
      "metadata": {
        "colab": {
          "base_uri": "https://localhost:8080/"
        },
        "id": "S0pFU1bjrveo",
        "outputId": "d896f63d-3b5e-4886-dacb-e981ff743c69"
      },
      "execution_count": null,
      "outputs": [
        {
          "output_type": "stream",
          "name": "stdout",
          "text": [
            "\n",
            "Easy Ensemble Results:\n",
            "[[79 72]\n",
            " [71 74]]\n",
            "0.5168918918918919\n",
            "              precision    recall  f1-score   support\n",
            "\n",
            "           0       0.53      0.52      0.52       151\n",
            "           1       0.51      0.51      0.51       145\n",
            "\n",
            "    accuracy                           0.52       296\n",
            "   macro avg       0.52      0.52      0.52       296\n",
            "weighted avg       0.52      0.52      0.52       296\n",
            "\n"
          ]
        }
      ]
    }
  ]
}